{
  "cells": [
    {
      "cell_type": "markdown",
      "metadata": {
        "id": "d0ADTojbpfLt"
      },
      "source": [
        "<p style=\"align: center;\"><img src=\"https://static.tildacdn.com/tild6636-3531-4239-b465-376364646465/Deep_Learning_School.png\" width=\"400\"></p>\n",
        "\n",
        "# Домашнее задание. Обучение языковой модели с помощью LSTM (10 баллов)"
      ]
    },
    {
      "cell_type": "markdown",
      "metadata": {
        "id": "ldHSmYY6p_mZ"
      },
      "source": [
        "Э\n",
        "В этом задании Вам предстоит обучить языковую модель с помощью рекуррентной нейронной сети. В отличие от семинарского занятия, Вам необходимо будет работать с отдельными словами, а не буквами.\n",
        "\n",
        "\n",
        "Установим модуль ```datasets```, чтобы нам проще было работать с данными."
      ]
    },
    {
      "cell_type": "code",
      "execution_count": null,
      "metadata": {
        "id": "3yvNdv6cp_0P"
      },
      "outputs": [],
      "source": [
        "!pip install datasets -q"
      ]
    },
    {
      "cell_type": "markdown",
      "metadata": {
        "id": "rh9ZXSeCpng9"
      },
      "source": [
        "Импорт необходимых библиотек"
      ]
    },
    {
      "cell_type": "code",
      "execution_count": null,
      "metadata": {
        "id": "XOJi16bLpd_O"
      },
      "outputs": [],
      "source": [
        "import torch\n",
        "import torch.nn as nn\n",
        "from torch.utils.data import Dataset, DataLoader\n",
        "\n",
        "import numpy as np\n",
        "import matplotlib.pyplot as plt\n",
        "\n",
        "from tqdm.auto import tqdm\n",
        "from datasets import load_dataset\n",
        "from nltk.tokenize import sent_tokenize, word_tokenize\n",
        "from sklearn.model_selection import train_test_split\n",
        "import nltk\n",
        "import string\n",
        "\n",
        "from collections import Counter, OrderedDict\n",
        "from typing import List\n",
        "\n",
        "import seaborn\n",
        "seaborn.set(palette='summer')"
      ]
    },
    {
      "cell_type": "code",
      "execution_count": null,
      "metadata": {
        "id": "91JuM0SQvXud"
      },
      "outputs": [],
      "source": [
        "nltk.download('punkt')"
      ]
    },
    {
      "cell_type": "code",
      "execution_count": null,
      "metadata": {
        "id": "adJC8ShFq9HM"
      },
      "outputs": [],
      "source": [
        "device = 'cuda' if torch.cuda.is_available() else 'cpu'\n",
        "device"
      ]
    },
    {
      "cell_type": "code",
      "source": [
        "import string\n",
        "import random\n",
        "import os\n",
        "\n",
        "def seed_torch(seed: int=42):\n",
        "\n",
        "  random.seed(seed)\n",
        "  os.environ['PYTHONHASHSEED'] = str(seed)\n",
        "  np.random.seed(seed)\n",
        "  torch.manual_seed(seed)\n",
        "  torch.backends.cudnn.benchmark = False\n",
        "  torch.backends.cudnn.deterministic = True"
      ],
      "metadata": {
        "id": "qUXnfF6CzhsE"
      },
      "execution_count": null,
      "outputs": []
    },
    {
      "cell_type": "markdown",
      "metadata": {
        "id": "pwsfS1ENq5ig"
      },
      "source": [
        "## Подготовка данных\n",
        "\n",
        "Воспользуемся датасетом imdb. В нем хранятся отзывы о фильмах с сайта imdb. Загрузим данные с помощью функции ```load_dataset```"
      ]
    },
    {
      "cell_type": "code",
      "execution_count": null,
      "metadata": {
        "id": "qHLNWOfJqSfc"
      },
      "outputs": [],
      "source": [
        "# Загрузим датасет\n",
        "dataset = load_dataset('imdb')"
      ]
    },
    {
      "cell_type": "code",
      "source": [
        "dataset"
      ],
      "metadata": {
        "id": "RfTtokYez57s"
      },
      "execution_count": null,
      "outputs": []
    },
    {
      "cell_type": "code",
      "source": [
        "dataset['train']"
      ],
      "metadata": {
        "id": "dgywm4iCz7tp"
      },
      "execution_count": null,
      "outputs": []
    },
    {
      "cell_type": "markdown",
      "metadata": {
        "id": "24gn7CuZ9agP"
      },
      "source": [
        "### Препроцессинг данных и создание словаря (1 балл)\n",
        "\n",
        "Далее вам необходмо самостоятельно произвести препроцессинг данных и получить словарь или же просто ```set``` строк. Что необходимо сделать:\n",
        "\n",
        "1. Разделить отдельные тренировочные примеры на отдельные предложения с помощью функции ```sent_tokenize``` из бибилиотеки ```nltk```. Каждое отдельное предложение будет одним тренировочным примером.\n",
        "2. Оставить только те предложения, в которых меньше ```word_threshold``` слов.\n",
        "3. Посчитать частоту вхождения каждого слова в оставшихся предложениях. Для деления предлоения на отдельные слова удобно использовать функцию ```word_tokenize```.\n",
        "4. Создать объект ```vocab``` класса ```set```, положить в него служебные токены '\\<unk\\>', '\\<bos\\>', '\\<eos\\>', '\\<pad\\>' и vocab_size самых частовстречающихся слов.   "
      ]
    },
    {
      "cell_type": "code",
      "source": [
        "dataset['train']['text'][0:3]"
      ],
      "metadata": {
        "id": "sJ0XtTNH0FPM"
      },
      "execution_count": null,
      "outputs": []
    },
    {
      "cell_type": "code",
      "execution_count": null,
      "metadata": {
        "id": "Ins2tVCdsS47"
      },
      "outputs": [],
      "source": [
        "sentences = []\n",
        "word_threshold = 32\n",
        "\n",
        "# Получить отдельные предложения и поместить их в sentences\n",
        "\n",
        "for sentence in tqdm(dataset['train']['text']+dataset['test']['text']+dataset['unsupervised']['text']):\n",
        "    for sent in sent_tokenize(sentence):\n",
        "        if len(word_tokenize(sent)) <= word_threshold:\n",
        "            sentences.append(sent.lower())"
      ]
    },
    {
      "cell_type": "code",
      "execution_count": null,
      "metadata": {
        "id": "bxeBxP3J1Rj3"
      },
      "outputs": [],
      "source": [
        "print(\"Всего предложений до удаления дублей:\", len(sentences))\n",
        "print(\"Всего предложений после удаления дублей:\", len(set(sentences)))"
      ]
    },
    {
      "cell_type": "code",
      "source": [
        "sentences = list(set(sentences))\n",
        "sentences[0:3]"
      ],
      "metadata": {
        "id": "8uLsBlMk0_ww"
      },
      "execution_count": null,
      "outputs": []
    },
    {
      "cell_type": "code",
      "source": [
        "sentences_final = []\n",
        "\n",
        "# Получить отдельные предложения и поместить их в sentences\n",
        "\n",
        "for sentence in tqdm(sentences):\n",
        "    for sent in sent_tokenize(sentence):\n",
        "        sentences_final.append(word_tokenize(sent))"
      ],
      "metadata": {
        "id": "fS1Ljuab0Rgq"
      },
      "execution_count": null,
      "outputs": []
    },
    {
      "cell_type": "code",
      "source": [
        "print(sentences_final[0])\n",
        "print(sentences_final[1])\n",
        "print(sentences_final[2])"
      ],
      "metadata": {
        "id": "DqFMrbUi0XHK"
      },
      "execution_count": null,
      "outputs": []
    },
    {
      "cell_type": "markdown",
      "metadata": {
        "id": "iT82XkT6ULA_"
      },
      "source": [
        "Посчитаем для каждого слова его встречаемость."
      ]
    },
    {
      "cell_type": "code",
      "execution_count": null,
      "metadata": {
        "id": "nEvCN0Y1w1yH"
      },
      "outputs": [],
      "source": [
        "words = Counter()\n",
        "\n",
        "# Расчет встречаемости слов\n",
        "\n",
        "for sentence in tqdm(sentences_final):\n",
        "    for word in sentence:\n",
        "        words[word]+=1"
      ]
    },
    {
      "cell_type": "code",
      "source": [
        "len(words)"
      ],
      "metadata": {
        "id": "t3TgFZoG1QcR"
      },
      "execution_count": null,
      "outputs": []
    },
    {
      "cell_type": "code",
      "source": [
        "words.most_common()[:5]"
      ],
      "metadata": {
        "id": "yHijyVHN1SlQ"
      },
      "execution_count": null,
      "outputs": []
    },
    {
      "cell_type": "code",
      "source": [
        "sorted(words, key=words.get, reverse=True)[:5]"
      ],
      "metadata": {
        "id": "0zkJIAuz1Url"
      },
      "execution_count": null,
      "outputs": []
    },
    {
      "cell_type": "markdown",
      "metadata": {
        "id": "B4k4uSoHUSI0"
      },
      "source": [
        "Добавим в словарь ```vocab_size``` самых встречающихся слов."
      ]
    },
    {
      "cell_type": "code",
      "execution_count": null,
      "metadata": {
        "id": "oUBNwsK9xLIu"
      },
      "outputs": [],
      "source": [
        "vocab = set(['<unk>', '<bos>', '<eos>', '<pad>'])\n",
        "vocab_size = 40000\n",
        "\n",
        "# Наполнение словаря\n",
        "\n",
        "for word in sorted(words, key=words.get, reverse=True)[:vocab_size]:\n",
        "        vocab.add(word)"
      ]
    },
    {
      "cell_type": "code",
      "source": [
        "assert '<unk>' in vocab\n",
        "assert '<bos>' in vocab\n",
        "assert '<eos>' in vocab\n",
        "assert '<pad>' in vocab\n",
        "assert len(vocab) == vocab_size + 4"
      ],
      "metadata": {
        "id": "ieT0DFUpXnV2"
      },
      "execution_count": null,
      "outputs": []
    },
    {
      "cell_type": "code",
      "execution_count": null,
      "metadata": {
        "id": "JhACW2CQyck5"
      },
      "outputs": [],
      "source": [
        "print(\"Всего слов в словаре:\", len(vocab))"
      ]
    },
    {
      "cell_type": "code",
      "source": [
        "vocab = list(vocab)\n",
        "vocab[:6]"
      ],
      "metadata": {
        "id": "nbmeu2JS1gQ8"
      },
      "execution_count": null,
      "outputs": []
    },
    {
      "cell_type": "markdown",
      "metadata": {
        "id": "UmeRYKSIUcdE"
      },
      "source": [
        "### Подготовка датасета (1 балл)\n",
        "\n",
        "Далее, как и в семинарском занятии, подготовим датасеты и даталоадеры.\n",
        "\n",
        "В классе ```WordDataset``` вам необходимо реализовать метод ```__getitem__```, который будет возвращать сэмпл данных по входному idx, то есть список целых чисел (индексов слов).\n",
        "\n",
        "Внутри этого метода необходимо добавить служебные токены начала и конца последовательности, а также токенизировать соответствующее предложение с помощью ```word_tokenize``` и сопоставить ему индексы из ```word2ind```."
      ]
    },
    {
      "cell_type": "code",
      "execution_count": null,
      "metadata": {
        "id": "iD7SmSy3v2dl"
      },
      "outputs": [],
      "source": [
        "word2ind = {word: i for i, word in enumerate(vocab)}\n",
        "ind2word = {i: word for word, i in word2ind.items()}"
      ]
    },
    {
      "cell_type": "code",
      "source": [
        "print(word2ind)"
      ],
      "metadata": {
        "id": "uoHN5YEJ1qno"
      },
      "execution_count": null,
      "outputs": []
    },
    {
      "cell_type": "code",
      "source": [
        "print(ind2word)"
      ],
      "metadata": {
        "id": "m4p3tAed1sG2"
      },
      "execution_count": null,
      "outputs": []
    },
    {
      "cell_type": "code",
      "execution_count": null,
      "metadata": {
        "id": "FVzXL17PzC7K"
      },
      "outputs": [],
      "source": [
        "class WordDataset:\n",
        "    def __init__(self, sentences):\n",
        "        self.data = sentences\n",
        "        self.unk_id = word2ind['<unk>']\n",
        "        self.bos_id = word2ind['<bos>']\n",
        "        self.eos_id = word2ind['<eos>']\n",
        "        self.pad_id = word2ind['<pad>']\n",
        "\n",
        "    def __getitem__(self, idx: int) -> List[int]:\n",
        "        # Допишите код здесь\n",
        "        tokenized_sentence = [self.bos_id]\n",
        "        tokenized_sentence += [word2ind.get(word, self.unk_id) for word in self.data[idx]]\n",
        "        tokenized_sentence += [self.eos_id]\n",
        "\n",
        "        return tokenized_sentence\n",
        "\n",
        "    def __len__(self) -> int:\n",
        "        return len(self.data)"
      ]
    },
    {
      "cell_type": "code",
      "execution_count": null,
      "metadata": {
        "id": "I6CtYNMp2_g0"
      },
      "outputs": [],
      "source": [
        "def collate_fn_with_padding(\n",
        "    input_batch: List[List[int]], pad_id=word2ind['<pad>']) -> torch.Tensor:\n",
        "    seq_lens = [len(x) for x in input_batch]\n",
        "    max_seq_len = max(seq_lens)\n",
        "\n",
        "    new_batch = []\n",
        "    for sequence in input_batch:\n",
        "        for _ in range(max_seq_len - len(sequence)):\n",
        "            sequence.append(pad_id)\n",
        "        new_batch.append(sequence)\n",
        "\n",
        "    sequences = torch.LongTensor(new_batch).to(device)\n",
        "\n",
        "    new_batch = {\n",
        "        'input_ids': sequences[:,:-1],\n",
        "        'target_ids': sequences[:,1:]\n",
        "    }\n",
        "\n",
        "    return new_batch"
      ]
    },
    {
      "cell_type": "code",
      "execution_count": null,
      "metadata": {
        "id": "6xmeK9Ys1BIG"
      },
      "outputs": [],
      "source": [
        "train_sentences, eval_sentences = train_test_split(sentences_final, test_size=0.2)\n",
        "eval_sentences, test_sentences = train_test_split(eval_sentences, test_size=0.5)\n",
        "\n",
        "train_dataset = WordDataset(train_sentences)\n",
        "eval_dataset = WordDataset(eval_sentences)\n",
        "test_dataset = WordDataset(test_sentences)\n",
        "\n",
        "batch_size = 128\n",
        "\n",
        "train_dataloader = DataLoader(\n",
        "    train_dataset, collate_fn=collate_fn_with_padding, batch_size=batch_size)\n",
        "\n",
        "eval_dataloader = DataLoader(\n",
        "    eval_dataset, collate_fn=collate_fn_with_padding, batch_size=batch_size)\n",
        "\n",
        "test_dataloader = DataLoader(\n",
        "    test_dataset, collate_fn=collate_fn_with_padding, batch_size=batch_size)"
      ]
    },
    {
      "cell_type": "markdown",
      "metadata": {
        "id": "SMAexY7Y45E4"
      },
      "source": [
        "## Обучение и архитектура модели\n",
        "\n",
        "Вам необходимо на практике проверить, что влияет на качество языковых моделей. В этом задании нужно провести серию экспериментов с различными вариантами языковых моделей и сравнить различия в конечной перплексии на тестовом множестве.\n",
        "\n",
        "Возмоэные идеи для экспериментов:\n",
        "\n",
        "* Различные RNN-блоки, например, LSTM или GRU. Также можно добавить сразу несколько RNN блоков друг над другом с помощью аргумента num_layers. Вам поможет официальная документация [здесь](https://pytorch.org/docs/stable/generated/torch.nn.LSTM.html)\n",
        "* Различные размеры скрытого состояния. Различное количество линейных слоев после RNN-блока. Различные функции активации.\n",
        "* Добавление нормализаций в виде Dropout, BatchNorm или LayerNorm\n",
        "* Различные аргументы для оптимизации, например, подбор оптимального learning rate или тип алгоритма оптимизации SGD, Adam, RMSProp и другие\n",
        "* Любые другие идеи и подходы\n",
        "\n",
        "После проведения экспериментов необходимо составить таблицу результатов, в которой описан каждый эксперимент и посчитана перплексия на тестовом множестве.\n",
        "\n",
        "Учтите, что эксперименты, которые различаются, например, только размером скрытого состояния или количеством линейных слоев считаются, как один эксперимент.\n",
        "\n",
        "Успехов!"
      ]
    },
    {
      "cell_type": "markdown",
      "source": [
        "### Функция evaluate (1 балл)\n",
        "\n",
        "Заполните функцию ```evaluate```"
      ],
      "metadata": {
        "id": "KP1cO-3bmDv9"
      }
    },
    {
      "cell_type": "code",
      "source": [
        "def evaluate(model, criterion, dataloader) -> float:\n",
        "    model.eval()\n",
        "    perplexity = []\n",
        "    with torch.no_grad():\n",
        "        for batch in dataloader:\n",
        "            logits = model(batch['input_ids']).flatten(start_dim=0, end_dim=1) # Посчитайте логиты предсказаний следующих слов\n",
        "            loss = criterion(logits, batch['target_ids'].flatten())\n",
        "            perplexity.append(torch.exp(loss).item())\n",
        "\n",
        "    perplexity = sum(perplexity) / len(perplexity)\n",
        "\n",
        "    return perplexity"
      ],
      "metadata": {
        "id": "XUlMUVJ3mL4r"
      },
      "execution_count": null,
      "outputs": []
    },
    {
      "cell_type": "markdown",
      "metadata": {
        "id": "bLV63Vsk7loy"
      },
      "source": [
        "### Train loop (1 балл)\n",
        "\n",
        "Напишите функцию для обучения модели."
      ]
    },
    {
      "cell_type": "code",
      "source": [
        "def train_model(model, train_dataloader, eval_dataloader, num_epoch:int = 5):\n",
        "    losses = []\n",
        "    perplexities_tr = []\n",
        "    perplexities_eval = []\n",
        "\n",
        "    seed_torch()\n",
        "    model = model\n",
        "    seed_torch()\n",
        "    criterion = nn.CrossEntropyLoss(ignore_index=word2ind['<pad>'])\n",
        "    seed_torch()\n",
        "    optimizer = torch.optim.Adam(model.parameters())\n",
        "\n",
        "    for epoch in range(num_epoch):\n",
        "        epoch_losses = []\n",
        "        model.train()\n",
        "\n",
        "        for batch in tqdm(train_dataloader, desc=f'Training epoch {epoch+1}:'):\n",
        "            optimizer.zero_grad()\n",
        "            logits = model(batch['input_ids']).flatten(start_dim=0, end_dim=1)\n",
        "            loss = criterion(logits, batch['target_ids'].flatten())\n",
        "            loss.backward()\n",
        "            optimizer.step()\n",
        "\n",
        "            epoch_losses.append(loss.item())\n",
        "\n",
        "        losses.append(sum(epoch_losses) / len(epoch_losses))\n",
        "        perplexities_tr.append(evaluate(model, criterion, train_dataloader))\n",
        "        perplexities_eval.append(evaluate(model, criterion, eval_dataloader))\n",
        "\n",
        "    return model, losses, perplexities_tr, perplexities_eval"
      ],
      "metadata": {
        "id": "bSZmUC3YmocP"
      },
      "execution_count": null,
      "outputs": []
    },
    {
      "cell_type": "markdown",
      "source": [
        "### Первый эксперимент (2 балла)\n",
        "\n",
        "Определите архитектуру модели и обучите её."
      ],
      "metadata": {
        "id": "hXmeyhBQmuq4"
      }
    },
    {
      "cell_type": "code",
      "source": [
        "class LanguageModel(nn.Module):\n",
        "    def __init__(self, hidden_dim: int, vocab_size: int):\n",
        "        super().__init__()\n",
        "\n",
        "        # Опишите свою нейронную сеть здесь\n",
        "        self.embedding = nn.Embedding(vocab_size, hidden_dim)\n",
        "        self.rnn = nn.GRU(hidden_dim, hidden_dim, batch_first=True)\n",
        "        self.linear = nn.Linear(hidden_dim, hidden_dim)\n",
        "        self.projection = nn.Linear(hidden_dim, vocab_size)\n",
        "\n",
        "        self.non_lin = nn.Tanh()\n",
        "        self.dropout = nn.Dropout(p=0.1)\n",
        "\n",
        "    def forward(self, input_batch: torch.Tensor) -> torch.Tensor:\n",
        "        # А тут опишите forward pass модели\n",
        "        embeddings = self.embedding(input_batch)  # [batch_size, seq_len, hidden_dim]\n",
        "        output, _ = self.rnn(embeddings)  # [batch_size, seq_len, hidden_dim]\n",
        "        output = self.dropout(self.linear(self.non_lin(output)))  # [batch_size, seq_len, hidden_dim]\n",
        "        projection = self.projection(self.non_lin(output))  # [batch_size, seq_len, vocab_size]\n",
        "\n",
        "        return projection"
      ],
      "metadata": {
        "id": "qaWvqNJom0ij"
      },
      "execution_count": null,
      "outputs": []
    },
    {
      "cell_type": "code",
      "source": [
        "def plotting(losses: List, perplexities_tr: List, perplexities_eval: List):\n",
        "\n",
        "    plt.plot(np.arange(len(losses)), losses)\n",
        "    plt.title('Losses')\n",
        "    plt.xlabel(\"epoch\")\n",
        "    plt.show()\n",
        "    print(f'Min losses on train: {min(losses)}')\n",
        "\n",
        "    plt.plot(np.arange(len(perplexities_tr)), perplexities_tr)\n",
        "    plt.title('Perplexity')\n",
        "    plt.xlabel(\"epoch\")\n",
        "    plt.show()\n",
        "    print(f'Min perplexities on train: {min(perplexities_tr)}')\n",
        "\n",
        "    plt.plot(np.arange(len(perplexities_eval)), perplexities_eval)\n",
        "    plt.title('Perplexity on eval')\n",
        "    plt.xlabel(\"epoch\")\n",
        "    plt.show()\n",
        "    print(f'Min perplexities on eval: {min(perplexities_eval)}')"
      ],
      "metadata": {
        "id": "TxbEzn5fnBOY"
      },
      "execution_count": null,
      "outputs": []
    },
    {
      "cell_type": "code",
      "source": [
        "def generate_sequence(model, starting_seq: str, max_seq_len: int = 32) -> str:\n",
        "    device = 'cuda'\n",
        "    model = model.to(device)\n",
        "    input_ids = [word2ind['<bos>']] + [\n",
        "        word2ind.get(word, word2ind['<unk>']) for word in nltk.word_tokenize(starting_seq)]\n",
        "    input_ids = torch.LongTensor(input_ids).to(device)\n",
        "\n",
        "    model.eval()\n",
        "    with torch.no_grad():\n",
        "        for i in range(max_seq_len):\n",
        "            next_word_distribution = model(input_ids)[-1]\n",
        "            next_word = next_word_distribution.squeeze().argmax()\n",
        "            input_ids = torch.cat([input_ids, next_word.unsqueeze(0)])\n",
        "\n",
        "            if next_word.item() == word2ind['<eos>']:\n",
        "                break\n",
        "\n",
        "    words = ' '.join([ind2word[idx.item()] for idx in input_ids])\n",
        "\n",
        "    return words\n"
      ],
      "metadata": {
        "id": "upihcCnd2M-Y"
      },
      "execution_count": null,
      "outputs": []
    },
    {
      "cell_type": "code",
      "source": [
        "# Обучите модель здесь\n",
        "num_epoch = 5\n",
        "\n",
        "model = LanguageModel(hidden_dim=256, vocab_size=len(vocab)).to(device)\n",
        "model_gru, losses_gru, perplexities_tr_gru, perplexities_eval_gru = train_model(model, train_dataloader, eval_dataloader, num_epoch)"
      ],
      "metadata": {
        "id": "0lSYp4zC2PHO"
      },
      "execution_count": null,
      "outputs": []
    },
    {
      "cell_type": "code",
      "source": [
        "plotting(losses_gru, perplexities_tr_gru, perplexities_eval_gru)"
      ],
      "metadata": {
        "id": "2exSMLFe2SO3"
      },
      "execution_count": null,
      "outputs": []
    },
    {
      "cell_type": "code",
      "source": [
        "%%time\n",
        "\n",
        "criterion = nn.CrossEntropyLoss(ignore_index=word2ind['<pad>'])\n",
        "model_0 = model_gru.to(device)\n",
        "perplexity_te_gru = evaluate(model_gru, criterion, test_dataloader)\n",
        "perplexity_te_gru"
      ],
      "metadata": {
        "id": "NEaPCCkW2VR3"
      },
      "execution_count": null,
      "outputs": []
    },
    {
      "cell_type": "code",
      "source": [
        "print('too bad only a few people saw this film, this film really deserves better')\n",
        "generate_sequence(model_gru, starting_seq='too bad only a few people saw this film, this film ')"
      ],
      "metadata": {
        "id": "ReztCRwy2W8C"
      },
      "execution_count": null,
      "outputs": []
    },
    {
      "cell_type": "markdown",
      "source": [
        "### Второй эксперимент (2 балла)\n",
        "\n",
        "Попробуйте что-то поменять в модели или в пайплайне обучения, идеи для экспериментов можно подсмотреть выше."
      ],
      "metadata": {
        "id": "X1EW4faIm0tl"
      }
    },
    {
      "cell_type": "code",
      "execution_count": null,
      "metadata": {
        "id": "wkSE4jR1XzTg"
      },
      "outputs": [],
      "source": [
        "# Проведите второй эксперимент\n",
        "\n",
        "class LanguageModel_LSTM(nn.Module):\n",
        "    def __init__(self, hidden_dim: int, vocab_size: int):\n",
        "        super().__init__()\n",
        "\n",
        "        # Опишите свою нейронную сеть здесь\n",
        "        self.embedding = nn.Embedding(vocab_size, hidden_dim)\n",
        "        self.rnn = nn.LSTM(hidden_dim, hidden_dim, batch_first=True, num_layers=3)\n",
        "        self.linear = nn.Linear(hidden_dim, hidden_dim)\n",
        "        self.projection = nn.Linear(hidden_dim, vocab_size)\n",
        "\n",
        "        self.non_lin = nn.Tanh()\n",
        "        self.dropout = nn.Dropout(p=0.2)\n",
        "\n",
        "    def forward(self, input_batch: torch.Tensor) -> torch.Tensor:\n",
        "        # А тут опишите forward pass модели\n",
        "        embeddings = self.embedding(input_batch)  # [batch_size, seq_len, hidden_dim]\n",
        "        output, _ = self.rnn(embeddings)  # [batch_size, seq_len, hidden_dim]\n",
        "        output = self.dropout(self.linear(self.non_lin(output)))  # [batch_size, seq_len, hidden_dim]\n",
        "        projection = self.projection(self.non_lin(output))  # [batch_size, seq_len, vocab_size]\n",
        "\n",
        "        return projection"
      ]
    },
    {
      "cell_type": "code",
      "source": [
        "# Обучите модель здесь\n",
        "num_epoch = 5\n",
        "\n",
        "model = LanguageModel_LSTM(hidden_dim=512, vocab_size=len(vocab)).to(device)\n",
        "model_lstm, losses_lstm, perplexities_tr_lstm, perplexities_eval_lstm = train_model(model, train_dataloader, eval_dataloader, num_epoch)"
      ],
      "metadata": {
        "id": "LrH2Xo5M2c4t"
      },
      "execution_count": null,
      "outputs": []
    },
    {
      "cell_type": "code",
      "source": [
        "plotting(losses_lstm, perplexities_tr_lstm, perplexities_eval_lstm)"
      ],
      "metadata": {
        "id": "VfOfhSFU2fGS"
      },
      "execution_count": null,
      "outputs": []
    },
    {
      "cell_type": "code",
      "source": [
        "%%time\n",
        "\n",
        "criterion = nn.CrossEntropyLoss(ignore_index=word2ind['<pad>'])\n",
        "model_1 = model_lstm.to(device)\n",
        "perplexity_te_lstm = evaluate(model, criterion, test_dataloader)\n",
        "perplexity_te_lstm"
      ],
      "metadata": {
        "id": "yvqtX-kK2hTL"
      },
      "execution_count": null,
      "outputs": []
    },
    {
      "cell_type": "code",
      "source": [
        "print('too bad only a few people saw this film, this film really deserves better')\n",
        "generate_sequence(model_lstm, starting_seq='too bad only a few people saw this film, this film ')"
      ],
      "metadata": {
        "id": "yG6Nlz-e2jDi"
      },
      "execution_count": null,
      "outputs": []
    },
    {
      "cell_type": "markdown",
      "source": [
        "### Отчет (2 балла)\n",
        "\n",
        "Опишите проведенные эксперименты. Сравните перплексии полученных моделей. Предложите идеи по улучшению качества моделей."
      ],
      "metadata": {
        "id": "Y5V9H3eoFeAu"
      }
    },
    {
      "cell_type": "code",
      "source": [
        "def perplexities_model(per_1: List, per_2: List, datasets: str):\n",
        "    plt.figure(figsize=(8,6))\n",
        "    plt.plot(per_1, 'r', label='Model_GRU')\n",
        "    plt.plot(per_2, 'g', label='Model_LSTM')\n",
        "    plt.title(f'Perplexities comparing of {datasets}')\n",
        "    plt.xlabel('Epoch')\n",
        "    plt.ylabel('Perplexity')\n",
        "    plt.legend()\n",
        "    plt.show()\n",
        "    print('Min of preplexity Model_GRU',min(per_1))\n",
        "    print('Min of preplexity Model_LSTM',min(per_2))"
      ],
      "metadata": {
        "id": "M2GCDVeeF8LP"
      },
      "execution_count": null,
      "outputs": []
    },
    {
      "cell_type": "code",
      "source": [
        "import pandas as pd\n",
        "def perplexities_model_table(per_tr_1: List, per_tr_2: List, per_eval_1: List, per_eval_2: List, n_epoch:int=5):\n",
        "    df = pd.DataFrame({'Model_GRU_tr':per_tr_1,'Model_GRU_eval':per_eval_1,'Model_LSTM_tr': per_tr_2, 'Model_LSTM_eval': per_eval_2})\n",
        "    display(df.describe())\n",
        "    df = df.T\n",
        "    df.columns = [f'epoch_{i+1}' for i in range(n_epoch)]\n",
        "    return df"
      ],
      "metadata": {
        "id": "NT3jym3c2rDd"
      },
      "execution_count": null,
      "outputs": []
    },
    {
      "cell_type": "code",
      "source": [
        "perplexities_model(perplexities_tr_gru,perplexities_tr_lstm, 'TRAIN')"
      ],
      "metadata": {
        "id": "GGgRUcQb2soL"
      },
      "execution_count": null,
      "outputs": []
    },
    {
      "cell_type": "code",
      "source": [
        "perplexities_model(perplexities_eval_gru,perplexities_eval_lstm, 'EVAL')"
      ],
      "metadata": {
        "id": "19HUttsy2uNj"
      },
      "execution_count": null,
      "outputs": []
    },
    {
      "cell_type": "code",
      "source": [
        "print('TEST preplexity Model_GRU',perplexity_te_gru)\n",
        "print('TEST preplexity Model_LSTM',perplexity_te_lstm)"
      ],
      "metadata": {
        "id": "hFxFiRwV2wFe"
      },
      "execution_count": null,
      "outputs": []
    },
    {
      "cell_type": "code",
      "source": [
        "perplexities_model_table(perplexities_tr_gru,perplexities_tr_lstm,perplexities_eval_gru,perplexities_eval_lstm)"
      ],
      "metadata": {
        "id": "FNHXiYrr2xmD"
      },
      "execution_count": null,
      "outputs": []
    },
    {
      "cell_type": "markdown",
      "source": [
        "---\n",
        "# Основные изменения и условия перед обучением:\n",
        "1) Все три датасета текстов были объеденены в один;\n",
        "\n",
        "2) Слова в предложениях были приведены к нижнему регистру;\n",
        "\n",
        "3) Были удалены дубликаты предложений;\n",
        "\n",
        "4) Токенизатор предложений и слов использован библиотекой nltk;\n",
        "\n",
        "5) Исправлена ошибка при разделении предложений на train, eval, test.\n",
        "\n",
        "---\n",
        "## Эксперимент 1 (описание):\n",
        "* Модель GRU;\n",
        "* Размер скрытого слоя = 256;\n",
        "* Вероятность dropout = 0.1;\n",
        "* Количество эпох = 5.\n",
        "\n",
        "#### Результаты:\n",
        "**Перплексия** на трейне и евал датасетах снижается постепенно при увеличении количества эпох. Минимальное значение на **трейне** = 60.7, на **евал** = 75.5. Перплексия на **тестовом** дататесе = 75.7.\n",
        "\n",
        "* **Плюсы**: Достаточно быстрое обучение, стабильность, не переобучается.\n",
        "\n",
        "* **Минусы**: Скудная генерация текстов. Хотелось бы лучше\n",
        "\n",
        "---\n",
        "## Эксперимент 2 (описание):\n",
        "* Модель LSTM;\n",
        "* Размер скрытого слоя = 512;\n",
        "* Количество слоев в LSTM = 3;\n",
        "* Вероятность dropout = 0.2;\n",
        "* Количество эпох = 5.\n",
        "\n",
        "#### Результаты:\n",
        "**Перплексия**  на трейне и евал датасетах снижается резко на маленьком количестве эпох, и далее стабилизируется. Минимальное значение на **трейне** = 61.6, на **евал** = 81.6. Перплексия на **тестовом** дататесе = 82.1.\n",
        "\n",
        "* **Плюсы**: Стабильность при большом количестве эпох, лучшие связи и генерация текстов, не переобучается.\n",
        "\n",
        "* **Минусы**: При маленьком количестве эпох хуже, чем GRU. Очень трудозатратно.\n",
        "\n",
        "---\n",
        "\n",
        "**ИТОГИ**. Лучшая модель оказалась из второго эксперимента!\n",
        "\n"
      ],
      "metadata": {
        "id": "hbcR-lcN20qU"
      }
    }
  ],
  "metadata": {
    "accelerator": "GPU",
    "colab": {
      "provenance": []
    },
    "gpuClass": "standard",
    "kernelspec": {
      "display_name": "Python 3 (ipykernel)",
      "language": "python",
      "name": "python3"
    },
    "language_info": {
      "codemirror_mode": {
        "name": "ipython",
        "version": 3
      },
      "file_extension": ".py",
      "mimetype": "text/x-python",
      "name": "python",
      "nbconvert_exporter": "python",
      "pygments_lexer": "ipython3",
      "version": "3.8.13"
    }
  },
  "nbformat": 4,
  "nbformat_minor": 0
}